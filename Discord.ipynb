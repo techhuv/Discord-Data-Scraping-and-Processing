{
  "nbformat": 4,
  "nbformat_minor": 0,
  "metadata": {
    "kernelspec": {
      "display_name": "Python 3",
      "language": "python",
      "name": "python3"
    },
    "language_info": {
      "codemirror_mode": {
        "name": "ipython",
        "version": 3
      },
      "file_extension": ".py",
      "mimetype": "text/x-python",
      "name": "python",
      "nbconvert_exporter": "python",
      "pygments_lexer": "ipython3",
      "version": "3.8.5"
    },
    "colab": {
      "name": "Discord.ipynb",
      "provenance": [],
      "collapsed_sections": []
    }
  },
  "cells": [
    {
      "cell_type": "code",
      "metadata": {
        "colab": {
          "base_uri": "https://localhost:8080/"
        },
        "id": "tlBVCbH5yQDI",
        "outputId": "4009bbe1-c265-4700-9896-af0e156076df"
      },
      "source": [
        "import click\n",
        "import csv\n",
        "import json\n",
        "import os\n",
        "import pandas as pd\n",
        "import random\n",
        "from pandas.core.frame import DataFrame\n",
        "import requests\n",
        "import sys\n",
        "from datetime import date\n",
        "import json\n",
        "from itertools import chain\n",
        "from pathlib import Path\n",
        "import time\n",
        "last_timestamp = None\n",
        "dfn = pd.DataFrame(columns=['Time Stamp','Type','Stock','Indication','Expiry','Rate'])\n",
        "\n",
        "working_file_name = 'Original.csv'\n",
        "copy_file_name = 'Copy.csv'\n",
        "\n",
        "def sort_it(x,ts):\n",
        "    global dfn\n",
        "    strs = x.split(' ')[1:7]\n",
        "    del strs[4]\n",
        "    strs.insert(0,ts)\n",
        "    dfn.loc[len(dfn)] = strs\n",
        "    \n",
        "def get_messages(auth:str, channel_id:str) -> str:\n",
        "\n",
        "    headers = {\n",
        "    'authorization': auth\n",
        "    }\n",
        "    r = requests.get(f'https://discord.com/api/v8/channels/{channel_id}/messages/search?author_id=779478806867214367&offset=0', headers=headers)\n",
        "    if \"Unauthorized\" in r.text:\n",
        "        return None\n",
        "    return r.text\n",
        "\n",
        "def write_to_csv(df):\n",
        "  global working_file_name\n",
        "  if Path(working_file_name).is_file():\n",
        "      df.to_csv(working_file_name, mode='a',index=False,header=False)\n",
        "  else:\n",
        "      df.to_csv(working_file_name, mode='a',index=False)\n",
        "  \n",
        "\n",
        "def refresh():\n",
        "  global dfn\n",
        "  global last_timestamp\n",
        "  \n",
        "  messages = get_messages('NDAzMjg1MDUzMjU5NTEzODU4.YOcxLQ._f3rQSQYM7HHuIUj_uTk0DymD4E','592829859890462739')\n",
        "  messages = json.loads(messages)\n",
        "  messages = messages['messages']\n",
        "  df = pd.DataFrame(list(chain.from_iterable(messages)))\n",
        "  df = df[['content','timestamp']]\n",
        "  df = df[df['content'].str.contains('BTO | STC')]\n",
        "  df.reset_index(inplace=True,drop=True)\n",
        "  temp = df.apply(lambda row: sort_it(row['content'],row['timestamp']), axis=1)\n",
        "\n",
        "  dfn['Time Stamp'] = pd.to_datetime(dfn['Time Stamp'])\n",
        "  dfn = dfn.sort_values(by=['Time Stamp'])\n",
        "  \n",
        "  if last_timestamp == None:\n",
        "    write_to_csv(dfn)\n",
        "  else:\n",
        "    write_to_csv(dfn[dfn['Time Stamp'] > last_timestamp])\n",
        "  last_timestamp = dfn.iloc[-1]['Time Stamp']\n",
        "\n",
        "  dfn = pd.DataFrame(columns=['Time Stamp','Type','Stock','Indication','Expiry','Rate'])\n",
        "\n",
        "try:\n",
        "  while(True):\n",
        "    refresh()\n",
        "    time.sleep(10)\n",
        "    print('Iteration Complete')\n",
        "\n",
        "except KeyboardInterrupt:\n",
        "  print(\"exitting\")\n",
        "  pass"
      ],
      "execution_count": null,
      "outputs": [
        {
          "output_type": "stream",
          "text": [
            "Iteration Complete\n",
            "Iteration Complete\n",
            "Iteration Complete\n",
            "Iteration Complete\n",
            "Iteration Complete\n",
            "Iteration Complete\n",
            "Iteration Complete\n",
            "Iteration Complete\n",
            "Iteration Complete\n",
            "Iteration Complete\n",
            "Iteration Complete\n",
            "Iteration Complete\n",
            "Iteration Complete\n",
            "Iteration Complete\n",
            "Iteration Complete\n",
            "Iteration Complete\n",
            "Iteration Complete\n",
            "Iteration Complete\n",
            "Iteration Complete\n",
            "Iteration Complete\n",
            "Iteration Complete\n",
            "Iteration Complete\n",
            "Iteration Complete\n",
            "Iteration Complete\n",
            "Iteration Complete\n",
            "Iteration Complete\n",
            "Iteration Complete\n",
            "Iteration Complete\n",
            "Iteration Complete\n",
            "Iteration Complete\n",
            "Iteration Complete\n",
            "Iteration Complete\n",
            "Iteration Complete\n",
            "Iteration Complete\n",
            "Iteration Complete\n",
            "Iteration Complete\n",
            "Iteration Complete\n",
            "Iteration Complete\n",
            "Iteration Complete\n",
            "Iteration Complete\n",
            "Iteration Complete\n",
            "Iteration Complete\n",
            "Iteration Complete\n",
            "Iteration Complete\n",
            "Iteration Complete\n",
            "Iteration Complete\n",
            "Iteration Complete\n",
            "Iteration Complete\n",
            "Iteration Complete\n",
            "Iteration Complete\n",
            "Iteration Complete\n",
            "Iteration Complete\n",
            "Iteration Complete\n",
            "Iteration Complete\n",
            "Iteration Complete\n",
            "Iteration Complete\n",
            "Iteration Complete\n",
            "Iteration Complete\n",
            "Iteration Complete\n",
            "Iteration Complete\n",
            "Iteration Complete\n",
            "Iteration Complete\n",
            "Iteration Complete\n",
            "Iteration Complete\n",
            "Iteration Complete\n",
            "Iteration Complete\n",
            "Iteration Complete\n",
            "Iteration Complete\n",
            "Iteration Complete\n",
            "Iteration Complete\n",
            "exitting\n"
          ],
          "name": "stdout"
        }
      ]
    },
    {
      "cell_type": "code",
      "metadata": {
        "id": "jtWFIklOyQDM"
      },
      "source": [
        "dfn['Time Stamp'] = pd.to_datetime(dfn['Time Stamp'])"
      ],
      "execution_count": null,
      "outputs": []
    },
    {
      "cell_type": "code",
      "metadata": {
        "colab": {
          "base_uri": "https://localhost:8080/",
          "height": 49
        },
        "id": "Bq9T2ylG4nUa",
        "outputId": "28ea17e9-9d8b-4f34-c1e7-27550e164c1a"
      },
      "source": [
        "dfn"
      ],
      "execution_count": null,
      "outputs": [
        {
          "output_type": "execute_result",
          "data": {
            "text/html": [
              "<div>\n",
              "<style scoped>\n",
              "    .dataframe tbody tr th:only-of-type {\n",
              "        vertical-align: middle;\n",
              "    }\n",
              "\n",
              "    .dataframe tbody tr th {\n",
              "        vertical-align: top;\n",
              "    }\n",
              "\n",
              "    .dataframe thead th {\n",
              "        text-align: right;\n",
              "    }\n",
              "</style>\n",
              "<table border=\"1\" class=\"dataframe\">\n",
              "  <thead>\n",
              "    <tr style=\"text-align: right;\">\n",
              "      <th></th>\n",
              "      <th>Time Stamp</th>\n",
              "      <th>Type</th>\n",
              "      <th>Stock</th>\n",
              "      <th>Indication</th>\n",
              "      <th>Expiry</th>\n",
              "      <th>Rate</th>\n",
              "    </tr>\n",
              "  </thead>\n",
              "  <tbody>\n",
              "  </tbody>\n",
              "</table>\n",
              "</div>"
            ],
            "text/plain": [
              "Empty DataFrame\n",
              "Columns: [Time Stamp, Type, Stock, Indication, Expiry, Rate]\n",
              "Index: []"
            ]
          },
          "metadata": {
            "tags": []
          },
          "execution_count": 11
        }
      ]
    },
    {
      "cell_type": "code",
      "metadata": {
        "id": "-EME6U0dyQDO"
      },
      "source": [
        ""
      ],
      "execution_count": null,
      "outputs": []
    },
    {
      "cell_type": "code",
      "metadata": {
        "id": "HzsQ0S5LyQDO"
      },
      "source": [
        ""
      ],
      "execution_count": null,
      "outputs": []
    },
    {
      "cell_type": "code",
      "metadata": {
        "id": "DPGPORDzyQDP"
      },
      "source": [
        ""
      ],
      "execution_count": null,
      "outputs": []
    },
    {
      "cell_type": "code",
      "metadata": {
        "id": "3oD2Yc50yQDP"
      },
      "source": [
        "\n",
        "\n"
      ],
      "execution_count": null,
      "outputs": []
    },
    {
      "cell_type": "code",
      "metadata": {
        "id": "2EXBZUF6yQDQ"
      },
      "source": [
        ""
      ],
      "execution_count": null,
      "outputs": []
    },
    {
      "cell_type": "code",
      "metadata": {
        "id": "PN_VvrT2yQDQ"
      },
      "source": [
        ""
      ],
      "execution_count": null,
      "outputs": []
    }
  ]
}